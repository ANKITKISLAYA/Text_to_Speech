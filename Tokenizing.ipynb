{
 "cells": [
  {
   "cell_type": "code",
   "execution_count": null,
   "metadata": {},
   "outputs": [],
   "source": []
  },
  {
   "cell_type": "code",
   "execution_count": null,
   "metadata": {},
   "outputs": [],
   "source": [
    "## "
   ]
  },
  {
   "cell_type": "code",
   "execution_count": null,
   "metadata": {},
   "outputs": [],
   "source": []
  },
  {
   "cell_type": "code",
   "execution_count": 74,
   "metadata": {},
   "outputs": [],
   "source": [
    "from gtts import gTTS \n",
    "from googletrans import Translator"
   ]
  },
  {
   "cell_type": "code",
   "execution_count": null,
   "metadata": {},
   "outputs": [],
   "source": []
  },
  {
   "cell_type": "code",
   "execution_count": 75,
   "metadata": {},
   "outputs": [],
   "source": [
    "from nltk.tokenize import sent_tokenize , word_tokenize"
   ]
  },
  {
   "cell_type": "code",
   "execution_count": 76,
   "metadata": {},
   "outputs": [],
   "source": [
    "import os \n",
    "import nltk"
   ]
  },
  {
   "cell_type": "code",
   "execution_count": 77,
   "metadata": {},
   "outputs": [],
   "source": [
    "#mytext = 'Welcome to geeksforgeeks!'\n"
   ]
  },
  {
   "cell_type": "code",
   "execution_count": 78,
   "metadata": {},
   "outputs": [],
   "source": [
    "f=open(\"text.txt\", \"r\")"
   ]
  },
  {
   "cell_type": "code",
   "execution_count": 79,
   "metadata": {},
   "outputs": [],
   "source": [
    "if f.mode == 'r':\n",
    "    contents =f.read()\n"
   ]
  },
  {
   "cell_type": "code",
   "execution_count": 80,
   "metadata": {},
   "outputs": [],
   "source": [
    "from cltk.tokenize.sentence import TokenizeSentence\n"
   ]
  },
  {
   "cell_type": "code",
   "execution_count": 81,
   "metadata": {},
   "outputs": [
    {
     "data": {
      "text/plain": [
       "'ShopKirana is a B2B - commerce company focused on technology and supply chain innovation that aims to empower retailers to be competitive by providing technology, operational expertise and scale advantage. Idea is to partner with millions of retailers (by becoming part of their supply chain) and making it the biggest and quickest go-to-market channel for products and services. ShopKirana directly works with brands to give them a boost on the demand side and reach to masses with transparency and deep market intelligence. \\n\\nShopKirana is a b2b platform, started with a vision to empower millions of retailers which connects 1.2 Bn+ population of India in terms of trade. Even after ages of Internet in India, small mom pop stores holds more than 90% of all India retail trade & are the backbone of our economy.\\n\\nWe connect retailers directly with brands with the help of technology & supply chain innovation to source products within 48 hrs. Our \"execution on ideas\" journey started in 2015...We started very first fmcg/grocery b2b multibrand platform for unorganised kirana stores in India.'"
      ]
     },
     "execution_count": 81,
     "metadata": {},
     "output_type": "execute_result"
    }
   ],
   "source": [
    "contents"
   ]
  },
  {
   "cell_type": "code",
   "execution_count": null,
   "metadata": {},
   "outputs": [],
   "source": [
    "\n"
   ]
  },
  {
   "cell_type": "code",
   "execution_count": null,
   "metadata": {},
   "outputs": [],
   "source": []
  },
  {
   "cell_type": "code",
   "execution_count": 61,
   "metadata": {},
   "outputs": [],
   "source": [
    "translator = Translator()"
   ]
  },
  {
   "cell_type": "code",
   "execution_count": 62,
   "metadata": {},
   "outputs": [],
   "source": [
    "s = translator.translate(contents,dest='hi').text"
   ]
  },
  {
   "cell_type": "code",
   "execution_count": 63,
   "metadata": {},
   "outputs": [
    {
     "data": {
      "text/plain": [
       "'ShopKirana एक बी 2 बी - वाणिज्य कंपनी है जिसने प्रौद्योगिकी और आपूर्ति श्रृंखला नवाचार पर ध्यान केंद्रित किया है जिसका उद्देश्य खुदरा विक्रेताओं को प्रौद्योगिकी, परिचालन विशेषज्ञता और बड़े पैमाने पर लाभ प्रदान करके प्रतिस्पर्धी बनाना है। आइडिया लाखों रिटेलर्स (उनकी आपूर्ति श्रृंखला का हिस्सा बनकर) के साथ साझेदार है और यह उत्पादों और सेवाओं के लिए सबसे बड़ा और सबसे तेज चलने वाला गो-टू-मार्केट चैनल है। ShopKirana सीधे ब्रांड के साथ काम करता है ताकि वे मांग पक्ष को बढ़ावा दे सकें और पारदर्शिता और गहरी बाजार की समझ के साथ जनता तक पहुंच सकें।\\n\\nShopKirana एक b2b प्लेटफ़ॉर्म है, जिसकी शुरुआत लाखों रिटेलरों को सशक्त बनाने के लिए की गई थी, जो व्यापार के मामले में भारत की 1.2 Bn + आबादी को जोड़ता है। भारत में इंटरनेट के युगों के बाद भी, छोटे मॉम पॉप स्टोर अखिल भारतीय खुदरा व्यापार का 90% से अधिक हिस्सा रखते हैं और हमारी अर्थव्यवस्था की रीढ़ हैं।\\n\\nहम खुदरा विक्रेताओं को प्रौद्योगिकी और आपूर्ति श्रृंखला नवाचार की मदद से सीधे 48 घंटे के भीतर स्रोत उत्पादों से जोड़ते हैं। हमारी \"विचारों पर अमल\" की यात्रा 2015 में शुरू हुई ... हमने भारत में असंगठित किराने की दुकानों के लिए बहुत पहले fmcg / किराना b2b मल्टीब्रांड प्लेटफॉर्म शुरू किया।'"
      ]
     },
     "execution_count": 63,
     "metadata": {},
     "output_type": "execute_result"
    }
   ],
   "source": [
    "s"
   ]
  },
  {
   "cell_type": "code",
   "execution_count": 64,
   "metadata": {},
   "outputs": [],
   "source": [
    "language = 'hi'\n"
   ]
  },
  {
   "cell_type": "code",
   "execution_count": 65,
   "metadata": {},
   "outputs": [],
   "source": [
    "#t=word_tokenize(s)   #tokenize by sentence \n",
    "\n",
    "tokenizer = TokenizeSentence('hindi')"
   ]
  },
  {
   "cell_type": "code",
   "execution_count": 66,
   "metadata": {},
   "outputs": [],
   "source": [
    "t = tokenizer.tokenize(s)\n",
    "\n"
   ]
  },
  {
   "cell_type": "code",
   "execution_count": 67,
   "metadata": {},
   "outputs": [
    {
     "data": {
      "text/plain": [
       "['ShopKirana एक बी 2 बी - वाणिज्य कंपनी है जिसने प्रौद्योगिकी और आपूर्ति श्रृंखला नवाचार पर ध्यान केंद्रित किया है जिसका उद्देश्य खुदरा विक्रेताओं को प्रौद्योगिकी, परिचालन विशेषज्ञता और बड़े पैमाने पर लाभ प्रदान करके प्रतिस्पर्धी बनाना है।',\n",
       " 'आइडिया लाखों रिटेलर्स (उनकी आपूर्ति श्रृंखला का हिस्सा बनकर) के साथ साझेदार है और यह उत्पादों और सेवाओं के लिए सबसे बड़ा और सबसे तेज चलने वाला गो-टू-मार्केट चैनल है।',\n",
       " 'ShopKirana सीधे ब्रांड के साथ काम करता है ताकि वे मांग पक्ष को बढ़ावा दे सकें और पारदर्शिता और गहरी बाजार की समझ के साथ जनता तक पहुंच सकें।',\n",
       " '\\nShopKirana एक b2b प्लेटफ़ॉर्म है, जिसकी शुरुआत लाखों रिटेलरों को सशक्त बनाने के लिए की गई थी, जो व्यापार के मामले में भारत की 1.2 Bn + आबादी को जोड़ता है।',\n",
       " 'भारत में इंटरनेट के युगों के बाद भी, छोटे मॉम पॉप स्टोर अखिल भारतीय खुदरा व्यापार का 90% से अधिक हिस्सा रखते हैं और हमारी अर्थव्यवस्था की रीढ़ हैं।',\n",
       " '\\nहम खुदरा विक्रेताओं को प्रौद्योगिकी और आपूर्ति श्रृंखला नवाचार की मदद से सीधे 48 घंटे के भीतर स्रोत उत्पादों से जोड़ते हैं।',\n",
       " 'हमारी \"विचारों पर अमल\" की यात्रा 2015 में शुरू हुई ... हमने भारत में असंगठित किराने की दुकानों के लिए बहुत पहले fmcg / किराना b2b मल्टीब्रांड प्लेटफॉर्म शुरू किया।']"
      ]
     },
     "execution_count": 67,
     "metadata": {},
     "output_type": "execute_result"
    }
   ],
   "source": [
    "t"
   ]
  },
  {
   "cell_type": "code",
   "execution_count": null,
   "metadata": {},
   "outputs": [],
   "source": []
  },
  {
   "cell_type": "code",
   "execution_count": null,
   "metadata": {},
   "outputs": [],
   "source": []
  },
  {
   "cell_type": "code",
   "execution_count": 68,
   "metadata": {},
   "outputs": [],
   "source": [
    "#t"
   ]
  },
  {
   "cell_type": "code",
   "execution_count": 69,
   "metadata": {},
   "outputs": [],
   "source": [
    "st=str(t)"
   ]
  },
  {
   "cell_type": "code",
   "execution_count": 70,
   "metadata": {},
   "outputs": [
    {
     "data": {
      "text/plain": [
       "'[\\'ShopKirana एक बी 2 बी - वाणिज्य कंपनी है जिसने प्रौद्योगिकी और आपूर्ति श्रृंखला नवाचार पर ध्यान केंद्रित किया है जिसका उद्देश्य खुदरा विक्रेताओं को प्रौद्योगिकी, परिचालन विशेषज्ञता और बड़े पैमाने पर लाभ प्रदान करके प्रतिस्पर्धी बनाना है।\\', \\'आइडिया लाखों रिटेलर्स (उनकी आपूर्ति श्रृंखला का हिस्सा बनकर) के साथ साझेदार है और यह उत्पादों और सेवाओं के लिए सबसे बड़ा और सबसे तेज चलने वाला गो-टू-मार्केट चैनल है।\\', \\'ShopKirana सीधे ब्रांड के साथ काम करता है ताकि वे मांग पक्ष को बढ़ावा दे सकें और पारदर्शिता और गहरी बाजार की समझ के साथ जनता तक पहुंच सकें।\\', \\'\\\\nShopKirana एक b2b प्लेटफ़ॉर्म है, जिसकी शुरुआत लाखों रिटेलरों को सशक्त बनाने के लिए की गई थी, जो व्यापार के मामले में भारत की 1.2 Bn + आबादी को जोड़ता है।\\', \\'भारत में इंटरनेट के युगों के बाद भी, छोटे मॉम पॉप स्टोर अखिल भारतीय खुदरा व्यापार का 90% से अधिक हिस्सा रखते हैं और हमारी अर्थव्यवस्था की रीढ़ हैं।\\', \\'\\\\nहम खुदरा विक्रेताओं को प्रौद्योगिकी और आपूर्ति श्रृंखला नवाचार की मदद से सीधे 48 घंटे के भीतर स्रोत उत्पादों से जोड़ते हैं।\\', \\'हमारी \"विचारों पर अमल\" की यात्रा 2015 में शुरू हुई ... हमने भारत में असंगठित किराने की दुकानों के लिए बहुत पहले fmcg / किराना b2b मल्टीब्रांड प्लेटफॉर्म शुरू किया।\\']'"
      ]
     },
     "execution_count": 70,
     "metadata": {},
     "output_type": "execute_result"
    }
   ],
   "source": [
    "st"
   ]
  },
  {
   "cell_type": "code",
   "execution_count": null,
   "metadata": {},
   "outputs": [],
   "source": []
  },
  {
   "cell_type": "code",
   "execution_count": null,
   "metadata": {},
   "outputs": [],
   "source": []
  },
  {
   "cell_type": "code",
   "execution_count": 71,
   "metadata": {},
   "outputs": [],
   "source": [
    "myobj = gTTS(text=s, lang='hi', slow=False) \n"
   ]
  },
  {
   "cell_type": "code",
   "execution_count": 72,
   "metadata": {},
   "outputs": [],
   "source": [
    "myobj.save(\"welcome2.mp3\") \n"
   ]
  },
  {
   "cell_type": "code",
   "execution_count": 73,
   "metadata": {},
   "outputs": [
    {
     "data": {
      "text/plain": [
       "0"
      ]
     },
     "execution_count": 73,
     "metadata": {},
     "output_type": "execute_result"
    }
   ],
   "source": [
    "# os.system(\"Mpg321  welcome2.mp3\") \n",
    "os.system(\"welcome2.mp3\")"
   ]
  },
  {
   "cell_type": "code",
   "execution_count": null,
   "metadata": {},
   "outputs": [],
   "source": []
  },
  {
   "cell_type": "code",
   "execution_count": null,
   "metadata": {},
   "outputs": [],
   "source": []
  },
  {
   "cell_type": "code",
   "execution_count": null,
   "metadata": {},
   "outputs": [],
   "source": []
  },
  {
   "cell_type": "code",
   "execution_count": null,
   "metadata": {},
   "outputs": [],
   "source": []
  },
  {
   "cell_type": "code",
   "execution_count": null,
   "metadata": {},
   "outputs": [],
   "source": []
  },
  {
   "cell_type": "code",
   "execution_count": null,
   "metadata": {},
   "outputs": [],
   "source": []
  }
 ],
 "metadata": {
  "kernelspec": {
   "display_name": "Python 3",
   "language": "python",
   "name": "python3"
  },
  "language_info": {
   "codemirror_mode": {
    "name": "ipython",
    "version": 3
   },
   "file_extension": ".py",
   "mimetype": "text/x-python",
   "name": "python",
   "nbconvert_exporter": "python",
   "pygments_lexer": "ipython3",
   "version": "3.7.4"
  }
 },
 "nbformat": 4,
 "nbformat_minor": 4
}
